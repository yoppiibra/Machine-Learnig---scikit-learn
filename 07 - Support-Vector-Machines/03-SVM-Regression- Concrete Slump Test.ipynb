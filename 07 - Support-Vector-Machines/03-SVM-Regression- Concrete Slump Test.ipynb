{
 "cells": [
  {
   "cell_type": "markdown",
   "id": "24542511",
   "metadata": {},
   "source": [
    "# Support Vector Machines\n",
    "## SVM - Regression"
   ]
  },
  {
   "cell_type": "markdown",
   "id": "9b257717",
   "metadata": {},
   "source": [
    "The concrete slump test measures the consistency of fresh concrete before it sets. It is performed to check the workability of freshly made concrete, and therefore the ease with which concrete flows. It can also be used as an indicator of an improperly mixed batch.\n",
    "\n",
    "<img src=\"Types_of_concrete_slump.jpg\">\n",
    "\n",
    "Our data set consists of various cement properties and the resulting slump test metrics in cm. Later on the set concrete is tested for its compressive strength 28 days later.\n",
    "\n",
    "Input variables (7)(component kg in one M^3 concrete):\n",
    "* Cement\n",
    "* Slag\n",
    "* Fly ash\n",
    "* Water\n",
    "* SP\n",
    "* Coarse Aggr.\n",
    "* Fine Aggr.\n",
    "\n",
    "Output variables (3):\n",
    "* SLUMP (cm)\n",
    "* FLOW (cm)\n",
    "* **28-day Compressive Strength (Mpa)**\n",
    "\n",
    "Data Source: https://archive.ics.uci.edu/ml/datasets/Concrete+Slump+Test\n",
    "\n",
    "*Credit: Yeh, I-Cheng, \"Modeling slump flow of concrete using second-order regressions and artificial neural networks,\" Cement and Concrete Composites, Vol.29, No. 6, 474-480, 2007.*"
   ]
  },
  {
   "cell_type": "code",
   "execution_count": 1,
   "id": "39ea025d",
   "metadata": {},
   "outputs": [],
   "source": [
    "import numpy as np\n",
    "import pandas as pd\n",
    "import matplotlib.pyplot as plt\n",
    "import seaborn as sns\n",
    "import scienceplots\n",
    "\n",
    "import warnings\n",
    "warnings.filterwarnings('ignore')"
   ]
  },
  {
   "cell_type": "code",
   "execution_count": 2,
   "id": "5bf79bc0",
   "metadata": {},
   "outputs": [],
   "source": [
    "df = pd.read_csv('..\\data\\cement_slump.csv')"
   ]
  },
  {
   "cell_type": "code",
   "execution_count": 3,
   "id": "85e32f88",
   "metadata": {},
   "outputs": [
    {
     "data": {
      "text/html": [
       "<div>\n",
       "<style scoped>\n",
       "    .dataframe tbody tr th:only-of-type {\n",
       "        vertical-align: middle;\n",
       "    }\n",
       "\n",
       "    .dataframe tbody tr th {\n",
       "        vertical-align: top;\n",
       "    }\n",
       "\n",
       "    .dataframe thead th {\n",
       "        text-align: right;\n",
       "    }\n",
       "</style>\n",
       "<table border=\"1\" class=\"dataframe\">\n",
       "  <thead>\n",
       "    <tr style=\"text-align: right;\">\n",
       "      <th></th>\n",
       "      <th>Cement</th>\n",
       "      <th>Slag</th>\n",
       "      <th>Fly ash</th>\n",
       "      <th>Water</th>\n",
       "      <th>SP</th>\n",
       "      <th>Coarse Aggr.</th>\n",
       "      <th>Fine Aggr.</th>\n",
       "      <th>SLUMP(cm)</th>\n",
       "      <th>FLOW(cm)</th>\n",
       "      <th>Compressive Strength (28-day)(Mpa)</th>\n",
       "    </tr>\n",
       "  </thead>\n",
       "  <tbody>\n",
       "    <tr>\n",
       "      <th>0</th>\n",
       "      <td>273.0</td>\n",
       "      <td>82.0</td>\n",
       "      <td>105.0</td>\n",
       "      <td>210.0</td>\n",
       "      <td>9.0</td>\n",
       "      <td>904.0</td>\n",
       "      <td>680.0</td>\n",
       "      <td>23.0</td>\n",
       "      <td>62.0</td>\n",
       "      <td>34.99</td>\n",
       "    </tr>\n",
       "    <tr>\n",
       "      <th>1</th>\n",
       "      <td>163.0</td>\n",
       "      <td>149.0</td>\n",
       "      <td>191.0</td>\n",
       "      <td>180.0</td>\n",
       "      <td>12.0</td>\n",
       "      <td>843.0</td>\n",
       "      <td>746.0</td>\n",
       "      <td>0.0</td>\n",
       "      <td>20.0</td>\n",
       "      <td>41.14</td>\n",
       "    </tr>\n",
       "    <tr>\n",
       "      <th>2</th>\n",
       "      <td>162.0</td>\n",
       "      <td>148.0</td>\n",
       "      <td>191.0</td>\n",
       "      <td>179.0</td>\n",
       "      <td>16.0</td>\n",
       "      <td>840.0</td>\n",
       "      <td>743.0</td>\n",
       "      <td>1.0</td>\n",
       "      <td>20.0</td>\n",
       "      <td>41.81</td>\n",
       "    </tr>\n",
       "    <tr>\n",
       "      <th>3</th>\n",
       "      <td>162.0</td>\n",
       "      <td>148.0</td>\n",
       "      <td>190.0</td>\n",
       "      <td>179.0</td>\n",
       "      <td>19.0</td>\n",
       "      <td>838.0</td>\n",
       "      <td>741.0</td>\n",
       "      <td>3.0</td>\n",
       "      <td>21.5</td>\n",
       "      <td>42.08</td>\n",
       "    </tr>\n",
       "    <tr>\n",
       "      <th>4</th>\n",
       "      <td>154.0</td>\n",
       "      <td>112.0</td>\n",
       "      <td>144.0</td>\n",
       "      <td>220.0</td>\n",
       "      <td>10.0</td>\n",
       "      <td>923.0</td>\n",
       "      <td>658.0</td>\n",
       "      <td>20.0</td>\n",
       "      <td>64.0</td>\n",
       "      <td>26.82</td>\n",
       "    </tr>\n",
       "  </tbody>\n",
       "</table>\n",
       "</div>"
      ],
      "text/plain": [
       "   Cement   Slag  Fly ash  Water    SP  Coarse Aggr.  Fine Aggr.  SLUMP(cm)  \\\n",
       "0   273.0   82.0    105.0  210.0   9.0         904.0       680.0       23.0   \n",
       "1   163.0  149.0    191.0  180.0  12.0         843.0       746.0        0.0   \n",
       "2   162.0  148.0    191.0  179.0  16.0         840.0       743.0        1.0   \n",
       "3   162.0  148.0    190.0  179.0  19.0         838.0       741.0        3.0   \n",
       "4   154.0  112.0    144.0  220.0  10.0         923.0       658.0       20.0   \n",
       "\n",
       "   FLOW(cm)  Compressive Strength (28-day)(Mpa)  \n",
       "0      62.0                               34.99  \n",
       "1      20.0                               41.14  \n",
       "2      20.0                               41.81  \n",
       "3      21.5                               42.08  \n",
       "4      64.0                               26.82  "
      ]
     },
     "execution_count": 3,
     "metadata": {},
     "output_type": "execute_result"
    }
   ],
   "source": [
    "df.head()"
   ]
  },
  {
   "cell_type": "code",
   "execution_count": 5,
   "id": "ef4010cf",
   "metadata": {},
   "outputs": [
    {
     "data": {
      "text/plain": [
       "(103, 10)"
      ]
     },
     "execution_count": 5,
     "metadata": {},
     "output_type": "execute_result"
    }
   ],
   "source": [
    "df.shape"
   ]
  },
  {
   "cell_type": "code",
   "execution_count": 6,
   "id": "23acaa6f",
   "metadata": {},
   "outputs": [
    {
     "data": {
      "text/plain": [
       "Cement                                0.0\n",
       "Slag                                  0.0\n",
       "Fly ash                               0.0\n",
       "Water                                 0.0\n",
       "SP                                    0.0\n",
       "Coarse Aggr.                          0.0\n",
       "Fine Aggr.                            0.0\n",
       "SLUMP(cm)                             0.0\n",
       "FLOW(cm)                              0.0\n",
       "Compressive Strength (28-day)(Mpa)    0.0\n",
       "dtype: float64"
      ]
     },
     "execution_count": 6,
     "metadata": {},
     "output_type": "execute_result"
    }
   ],
   "source": [
    "# percent null value\n",
    "round(100 * df.isnull().sum()/len(df), 2)"
   ]
  },
  {
   "cell_type": "code",
   "execution_count": 7,
   "id": "168c9643",
   "metadata": {},
   "outputs": [
    {
     "name": "stdout",
     "output_type": "stream",
     "text": [
      "<class 'pandas.core.frame.DataFrame'>\n",
      "RangeIndex: 103 entries, 0 to 102\n",
      "Data columns (total 10 columns):\n",
      " #   Column                              Non-Null Count  Dtype  \n",
      "---  ------                              --------------  -----  \n",
      " 0   Cement                              103 non-null    float64\n",
      " 1   Slag                                103 non-null    float64\n",
      " 2   Fly ash                             103 non-null    float64\n",
      " 3   Water                               103 non-null    float64\n",
      " 4   SP                                  103 non-null    float64\n",
      " 5   Coarse Aggr.                        103 non-null    float64\n",
      " 6   Fine Aggr.                          103 non-null    float64\n",
      " 7   SLUMP(cm)                           103 non-null    float64\n",
      " 8   FLOW(cm)                            103 non-null    float64\n",
      " 9   Compressive Strength (28-day)(Mpa)  103 non-null    float64\n",
      "dtypes: float64(10)\n",
      "memory usage: 8.2 KB\n"
     ]
    }
   ],
   "source": [
    "df.info()"
   ]
  },
  {
   "cell_type": "code",
   "execution_count": 9,
   "id": "b56e6a6f",
   "metadata": {},
   "outputs": [
    {
     "data": {
      "text/plain": [
       "0"
      ]
     },
     "execution_count": 9,
     "metadata": {},
     "output_type": "execute_result"
    }
   ],
   "source": [
    "# check duplicated\n",
    "df.duplicated(subset=None).sum()"
   ]
  },
  {
   "cell_type": "code",
   "execution_count": 11,
   "id": "fb4b4282",
   "metadata": {},
   "outputs": [
    {
     "data": {
      "text/html": [
       "<div>\n",
       "<style scoped>\n",
       "    .dataframe tbody tr th:only-of-type {\n",
       "        vertical-align: middle;\n",
       "    }\n",
       "\n",
       "    .dataframe tbody tr th {\n",
       "        vertical-align: top;\n",
       "    }\n",
       "\n",
       "    .dataframe thead th {\n",
       "        text-align: right;\n",
       "    }\n",
       "</style>\n",
       "<table border=\"1\" class=\"dataframe\">\n",
       "  <thead>\n",
       "    <tr style=\"text-align: right;\">\n",
       "      <th></th>\n",
       "      <th>count</th>\n",
       "      <th>mean</th>\n",
       "      <th>std</th>\n",
       "      <th>min</th>\n",
       "      <th>25%</th>\n",
       "      <th>50%</th>\n",
       "      <th>75%</th>\n",
       "      <th>max</th>\n",
       "    </tr>\n",
       "  </thead>\n",
       "  <tbody>\n",
       "    <tr>\n",
       "      <th>Cement</th>\n",
       "      <td>103.0</td>\n",
       "      <td>229.894175</td>\n",
       "      <td>78.877230</td>\n",
       "      <td>137.00</td>\n",
       "      <td>152.00</td>\n",
       "      <td>248.00</td>\n",
       "      <td>303.900</td>\n",
       "      <td>374.00</td>\n",
       "    </tr>\n",
       "    <tr>\n",
       "      <th>Slag</th>\n",
       "      <td>103.0</td>\n",
       "      <td>77.973786</td>\n",
       "      <td>60.461363</td>\n",
       "      <td>0.00</td>\n",
       "      <td>0.05</td>\n",
       "      <td>100.00</td>\n",
       "      <td>125.000</td>\n",
       "      <td>193.00</td>\n",
       "    </tr>\n",
       "    <tr>\n",
       "      <th>Fly ash</th>\n",
       "      <td>103.0</td>\n",
       "      <td>149.014563</td>\n",
       "      <td>85.418080</td>\n",
       "      <td>0.00</td>\n",
       "      <td>115.50</td>\n",
       "      <td>164.00</td>\n",
       "      <td>235.950</td>\n",
       "      <td>260.00</td>\n",
       "    </tr>\n",
       "    <tr>\n",
       "      <th>Water</th>\n",
       "      <td>103.0</td>\n",
       "      <td>197.167961</td>\n",
       "      <td>20.208158</td>\n",
       "      <td>160.00</td>\n",
       "      <td>180.00</td>\n",
       "      <td>196.00</td>\n",
       "      <td>209.500</td>\n",
       "      <td>240.00</td>\n",
       "    </tr>\n",
       "    <tr>\n",
       "      <th>SP</th>\n",
       "      <td>103.0</td>\n",
       "      <td>8.539806</td>\n",
       "      <td>2.807530</td>\n",
       "      <td>4.40</td>\n",
       "      <td>6.00</td>\n",
       "      <td>8.00</td>\n",
       "      <td>10.000</td>\n",
       "      <td>19.00</td>\n",
       "    </tr>\n",
       "    <tr>\n",
       "      <th>Coarse Aggr.</th>\n",
       "      <td>103.0</td>\n",
       "      <td>883.978641</td>\n",
       "      <td>88.391393</td>\n",
       "      <td>708.00</td>\n",
       "      <td>819.50</td>\n",
       "      <td>879.00</td>\n",
       "      <td>952.800</td>\n",
       "      <td>1049.90</td>\n",
       "    </tr>\n",
       "    <tr>\n",
       "      <th>Fine Aggr.</th>\n",
       "      <td>103.0</td>\n",
       "      <td>739.604854</td>\n",
       "      <td>63.342117</td>\n",
       "      <td>640.60</td>\n",
       "      <td>684.50</td>\n",
       "      <td>742.70</td>\n",
       "      <td>788.000</td>\n",
       "      <td>902.00</td>\n",
       "    </tr>\n",
       "    <tr>\n",
       "      <th>SLUMP(cm)</th>\n",
       "      <td>103.0</td>\n",
       "      <td>18.048544</td>\n",
       "      <td>8.750844</td>\n",
       "      <td>0.00</td>\n",
       "      <td>14.50</td>\n",
       "      <td>21.50</td>\n",
       "      <td>24.000</td>\n",
       "      <td>29.00</td>\n",
       "    </tr>\n",
       "    <tr>\n",
       "      <th>FLOW(cm)</th>\n",
       "      <td>103.0</td>\n",
       "      <td>49.610680</td>\n",
       "      <td>17.568610</td>\n",
       "      <td>20.00</td>\n",
       "      <td>38.50</td>\n",
       "      <td>54.00</td>\n",
       "      <td>63.750</td>\n",
       "      <td>78.00</td>\n",
       "    </tr>\n",
       "    <tr>\n",
       "      <th>Compressive Strength (28-day)(Mpa)</th>\n",
       "      <td>103.0</td>\n",
       "      <td>36.038738</td>\n",
       "      <td>7.837120</td>\n",
       "      <td>17.19</td>\n",
       "      <td>30.90</td>\n",
       "      <td>35.52</td>\n",
       "      <td>41.205</td>\n",
       "      <td>58.53</td>\n",
       "    </tr>\n",
       "  </tbody>\n",
       "</table>\n",
       "</div>"
      ],
      "text/plain": [
       "                                    count        mean        std     min  \\\n",
       "Cement                              103.0  229.894175  78.877230  137.00   \n",
       "Slag                                103.0   77.973786  60.461363    0.00   \n",
       "Fly ash                             103.0  149.014563  85.418080    0.00   \n",
       "Water                               103.0  197.167961  20.208158  160.00   \n",
       "SP                                  103.0    8.539806   2.807530    4.40   \n",
       "Coarse Aggr.                        103.0  883.978641  88.391393  708.00   \n",
       "Fine Aggr.                          103.0  739.604854  63.342117  640.60   \n",
       "SLUMP(cm)                           103.0   18.048544   8.750844    0.00   \n",
       "FLOW(cm)                            103.0   49.610680  17.568610   20.00   \n",
       "Compressive Strength (28-day)(Mpa)  103.0   36.038738   7.837120   17.19   \n",
       "\n",
       "                                       25%     50%      75%      max  \n",
       "Cement                              152.00  248.00  303.900   374.00  \n",
       "Slag                                  0.05  100.00  125.000   193.00  \n",
       "Fly ash                             115.50  164.00  235.950   260.00  \n",
       "Water                               180.00  196.00  209.500   240.00  \n",
       "SP                                    6.00    8.00   10.000    19.00  \n",
       "Coarse Aggr.                        819.50  879.00  952.800  1049.90  \n",
       "Fine Aggr.                          684.50  742.70  788.000   902.00  \n",
       "SLUMP(cm)                            14.50   21.50   24.000    29.00  \n",
       "FLOW(cm)                             38.50   54.00   63.750    78.00  \n",
       "Compressive Strength (28-day)(Mpa)   30.90   35.52   41.205    58.53  "
      ]
     },
     "execution_count": 11,
     "metadata": {},
     "output_type": "execute_result"
    }
   ],
   "source": [
    "df.describe().T"
   ]
  },
  {
   "cell_type": "code",
   "execution_count": 13,
   "id": "e68d15e6",
   "metadata": {},
   "outputs": [
    {
     "data": {
      "image/png": "[encoded data removed]",
      "text/plain": [
       "<Figure size 640x480 with 2 Axes>"
      ]
     },
     "metadata": {},
     "output_type": "display_data"
    }
   ],
   "source": [
    "# matrix \n",
    "matrix = df.corr()\n",
    "\n",
    "# mask\n",
    "mask = np.zeros_like(matrix)\n",
    "mask[np.triu_indices_from(mask)]= True\n",
    "\n",
    "# heatmap\n",
    "sns.heatmap(matrix, mask= mask, annot=True, lw =1, cmap= 'viridis');"
   ]
  },
  {
   "cell_type": "code",
   "execution_count": 20,
   "id": "dafd3737",
   "metadata": {},
   "outputs": [
    {
     "data": {
      "text/plain": [
       "Index(['Cement', 'Slag', 'Fly ash', 'Water', 'SP', 'Coarse Aggr.',\n",
       "       'Fine Aggr.', 'SLUMP(cm)', 'FLOW(cm)',\n",
       "       'Compressive Strength (28-day)(Mpa)'],\n",
       "      dtype='object')"
      ]
     },
     "execution_count": 20,
     "metadata": {},
     "output_type": "execute_result"
    }
   ],
   "source": [
    "df.columns"
   ]
  },
  {
   "cell_type": "markdown",
   "id": "41ac823d",
   "metadata": {},
   "source": [
    "## Create X and y"
   ]
  },
  {
   "cell_type": "code",
   "execution_count": 14,
   "id": "2e202321",
   "metadata": {},
   "outputs": [],
   "source": [
    "X = df.drop('Compressive Strength (28-day)(Mpa)', axis=1)\n",
    "y = df['Compressive Strength (28-day)(Mpa)']"
   ]
  },
  {
   "cell_type": "markdown",
   "id": "711a677a",
   "metadata": {},
   "source": [
    "## Train | Test Split\n",
    "\n",
    "Alternatively you could also set this up as a pipline, something like:\n",
    "\n",
    "    >>> from sklearn.pipeline import make_pipeline\n",
    "    >>> from sklearn.preprocessing import StandardScaler\n",
    "    >>> from sklearn.svm import SVR\n",
    "\n",
    "    >>> clf = make_pipeline(StandardScaler(), SVR())"
   ]
  },
  {
   "cell_type": "code",
   "execution_count": 19,
   "id": "84645c7d",
   "metadata": {},
   "outputs": [],
   "source": [
    "from sklearn.model_selection import train_test_split"
   ]
  },
  {
   "cell_type": "code",
   "execution_count": 21,
   "id": "c135d238",
   "metadata": {},
   "outputs": [],
   "source": [
    "X_train, X_test, y_train, y_test = train_test_split(X, y, test_size = 0.3, random_state = 101)"
   ]
  },
  {
   "cell_type": "code",
   "execution_count": 23,
   "id": "5366b80f",
   "metadata": {},
   "outputs": [],
   "source": [
    "from sklearn.preprocessing import StandardScaler"
   ]
  },
  {
   "cell_type": "code",
   "execution_count": 24,
   "id": "2b277203",
   "metadata": {},
   "outputs": [],
   "source": [
    "scaler = StandardScaler()"
   ]
  },
  {
   "cell_type": "code",
   "execution_count": 25,
   "id": "de53eb83",
   "metadata": {},
   "outputs": [],
   "source": [
    "X_train_scaler = scaler.fit_transform(X_train)\n",
    "X_test_scaler = scaler.transform(X_test)"
   ]
  },
  {
   "cell_type": "markdown",
   "id": "2af6d346",
   "metadata": {},
   "source": [
    "## Support Vector Machines - Regression\n",
    "\n",
    "There are three different implementations of Support Vector Regression: SVR, NuSVR and LinearSVR. LinearSVR provides a faster implementation than SVR but only considers the linear kernel, while NuSVR implements a slightly different formulation than SVR and LinearSVR. See [Implementation details](https://scikit-learn.org/stable/modules/svm.html#svm-implementation-details) for further details."
   ]
  },
  {
   "cell_type": "code",
   "execution_count": 26,
   "id": "876628bb",
   "metadata": {},
   "outputs": [],
   "source": [
    "from sklearn.svm import LinearSVR, SVR"
   ]
  },
  {
   "cell_type": "markdown",
   "id": "d7dd0a0f",
   "metadata": {},
   "source": [
    "Setting C: C is 1 by default and it’s a reasonable default choice. If you have a lot of noisy observations you should decrease it: decreasing C corresponds to more regularization.\n",
    "\n",
    "LinearSVC and LinearSVR are less sensitive to C when it becomes large, and prediction results stop improving after a certain threshold. Meanwhile, larger C values will take more time to train, sometimes up to 10 times longer\n",
    "\n",
    "Epsilon: https://stats.stackexchange.com/questions/259018/meaning-of-epsilon-in-svm-regression"
   ]
  },
  {
   "cell_type": "code",
   "execution_count": 27,
   "id": "e4d84800",
   "metadata": {},
   "outputs": [],
   "source": [
    "base_model = SVR()"
   ]
  },
  {
   "cell_type": "code",
   "execution_count": 28,
   "id": "dc40c7e6",
   "metadata": {},
   "outputs": [
    {
     "data": {
      "text/plain": [
       "SVR()"
      ]
     },
     "execution_count": 28,
     "metadata": {},
     "output_type": "execute_result"
    }
   ],
   "source": [
    "base_model.fit(X_train_scaler, y_train)"
   ]
  },
  {
   "cell_type": "code",
   "execution_count": 29,
   "id": "e0986a4a",
   "metadata": {},
   "outputs": [],
   "source": [
    "base_preds = base_model.predict(X_test_scaler)"
   ]
  },
  {
   "cell_type": "markdown",
   "id": "af2fcfa1",
   "metadata": {},
   "source": [
    "## Evaluation"
   ]
  },
  {
   "cell_type": "code",
   "execution_count": 35,
   "id": "ba6bf443",
   "metadata": {},
   "outputs": [],
   "source": [
    "from sklearn.metrics import mean_absolute_error, mean_squared_error"
   ]
  },
  {
   "cell_type": "code",
   "execution_count": 38,
   "id": "a9cbb6a0",
   "metadata": {},
   "outputs": [],
   "source": [
    "MAE = mean_absolute_error(y_test, base_preds)\n",
    "MSE = mean_squared_error(y_test, base_preds)\n",
    "RMSE = np.sqrt(MSE)"
   ]
  },
  {
   "cell_type": "code",
   "execution_count": 39,
   "id": "0196b036",
   "metadata": {},
   "outputs": [
    {
     "data": {
      "text/plain": [
       "5.236902091259178"
      ]
     },
     "execution_count": 39,
     "metadata": {},
     "output_type": "execute_result"
    }
   ],
   "source": [
    "MAE"
   ]
  },
  {
   "cell_type": "code",
   "execution_count": 40,
   "id": "2749b879",
   "metadata": {},
   "outputs": [
    {
     "data": {
      "text/plain": [
       "44.83527552212948"
      ]
     },
     "execution_count": 40,
     "metadata": {},
     "output_type": "execute_result"
    }
   ],
   "source": [
    "MSE"
   ]
  },
  {
   "cell_type": "code",
   "execution_count": 41,
   "id": "a69c9ea8",
   "metadata": {},
   "outputs": [
    {
     "data": {
      "text/plain": [
       "6.695914838327133"
      ]
     },
     "execution_count": 41,
     "metadata": {},
     "output_type": "execute_result"
    }
   ],
   "source": [
    "RMSE"
   ]
  },
  {
   "cell_type": "code",
   "execution_count": 42,
   "id": "cdcf8142",
   "metadata": {},
   "outputs": [
    {
     "data": {
      "text/plain": [
       "36.26870967741935"
      ]
     },
     "execution_count": 42,
     "metadata": {},
     "output_type": "execute_result"
    }
   ],
   "source": [
    "y_test.mean()"
   ]
  },
  {
   "cell_type": "markdown",
   "id": "8678bc17",
   "metadata": {},
   "source": [
    "## Hyperparameter Tuning GridSearchCV"
   ]
  },
  {
   "cell_type": "code",
   "execution_count": 44,
   "id": "1af778da",
   "metadata": {},
   "outputs": [],
   "source": [
    "param_grid = {'C' : [0.01, 0.1, 0.5,1], \n",
    "              'kernel' : ['linear', 'rbf', 'poly'], \n",
    "              'gamma' : ['scale', 'poly'],\n",
    "              'epsilon' : [0.01, 0.1, 0.5, 1,2]              \n",
    "             }"
   ]
  },
  {
   "cell_type": "code",
   "execution_count": 45,
   "id": "9e0444d1",
   "metadata": {},
   "outputs": [],
   "source": [
    "from sklearn.model_selection import GridSearchCV"
   ]
  },
  {
   "cell_type": "code",
   "execution_count": 46,
   "id": "4a309d7b",
   "metadata": {},
   "outputs": [],
   "source": [
    "svr = SVR()"
   ]
  },
  {
   "cell_type": "code",
   "execution_count": 47,
   "id": "b5e4c118",
   "metadata": {},
   "outputs": [],
   "source": [
    "grid = GridSearchCV(svr, param_grid)"
   ]
  },
  {
   "cell_type": "code",
   "execution_count": 48,
   "id": "597e3c87",
   "metadata": {},
   "outputs": [
    {
     "data": {
      "text/plain": [
       "GridSearchCV(estimator=SVR(),\n",
       "             param_grid={'C': [0.01, 0.1, 0.5, 1],\n",
       "                         'epsilon': [0.01, 0.1, 0.5, 1, 2],\n",
       "                         'gamma': ['scale', 'poly'],\n",
       "                         'kernel': ['linear', 'rbf', 'poly']})"
      ]
     },
     "execution_count": 48,
     "metadata": {},
     "output_type": "execute_result"
    }
   ],
   "source": [
    "grid.fit(X_train_scaler, y_train)"
   ]
  },
  {
   "cell_type": "code",
   "execution_count": 49,
   "id": "bb81b623",
   "metadata": {},
   "outputs": [
    {
     "data": {
      "text/plain": [
       "{'C': 1,\n",
       " 'cache_size': 200,\n",
       " 'coef0': 0.0,\n",
       " 'degree': 3,\n",
       " 'epsilon': 2,\n",
       " 'gamma': 'scale',\n",
       " 'kernel': 'linear',\n",
       " 'max_iter': -1,\n",
       " 'shrinking': True,\n",
       " 'tol': 0.001,\n",
       " 'verbose': False}"
      ]
     },
     "execution_count": 49,
     "metadata": {},
     "output_type": "execute_result"
    }
   ],
   "source": [
    "grid.best_estimator_.get_params()"
   ]
  },
  {
   "cell_type": "code",
   "execution_count": 51,
   "id": "47f93562",
   "metadata": {},
   "outputs": [
    {
     "data": {
      "text/plain": [
       "{'C': 1, 'epsilon': 2, 'gamma': 'scale', 'kernel': 'linear'}"
      ]
     },
     "execution_count": 51,
     "metadata": {},
     "output_type": "execute_result"
    }
   ],
   "source": [
    "grid.best_params_"
   ]
  },
  {
   "cell_type": "code",
   "execution_count": 52,
   "id": "ab28b605",
   "metadata": {},
   "outputs": [],
   "source": [
    "grid_preds = grid.predict(X_test_scaler)"
   ]
  },
  {
   "cell_type": "code",
   "execution_count": 53,
   "id": "0fe946b5",
   "metadata": {},
   "outputs": [
    {
     "data": {
      "text/plain": [
       "2.5128012210762365"
      ]
     },
     "execution_count": 53,
     "metadata": {},
     "output_type": "execute_result"
    }
   ],
   "source": [
    "# metrix\n",
    "mean_absolute_error(y_test, grid_preds)"
   ]
  },
  {
   "cell_type": "code",
   "execution_count": 54,
   "id": "c8e1f141",
   "metadata": {},
   "outputs": [
    {
     "data": {
      "text/plain": [
       "3.178210305119858"
      ]
     },
     "execution_count": 54,
     "metadata": {},
     "output_type": "execute_result"
    }
   ],
   "source": [
    "np.sqrt(mean_squared_error(y_test, grid_preds))"
   ]
  },
  {
   "cell_type": "code",
   "execution_count": null,
   "id": "c363ea21",
   "metadata": {},
   "outputs": [],
   "source": []
  }
 ],
 "metadata": {
  "kernelspec": {
   "display_name": "Python 3 (ipykernel)",
   "language": "python",
   "name": "python3"
  },
  "language_info": {
   "codemirror_mode": {
    "name": "ipython",
    "version": 3
   },
   "file_extension": ".py",
   "mimetype": "text/x-python",
   "name": "python",
   "nbconvert_exporter": "python",
   "pygments_lexer": "ipython3",
   "version": "3.9.13"
  }
 },
 "nbformat": 4,
 "nbformat_minor": 5
}
